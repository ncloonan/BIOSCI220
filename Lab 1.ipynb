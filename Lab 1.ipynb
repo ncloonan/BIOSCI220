{
  "cells": [
    {
      "metadata": {
        "collapsed": true
      },
      "cell_type": "markdown",
      "source": "## BIOSCI220 Quantitative Biology - Lab 1\n## Overview\nOne of the basic jobs of any scientist is to analyze data. If you can't analyze your own data, then you're not really doing the job of a scientist! Unfortunately, the data we typically collect in biology isn't really that easy to analyze in standard point and click software that you may be used to. So we are going to need to gain some basic competency in the analysis tools we are that will be much more useful to you down the track. \n\nDon't worry though - it's not as intimidating as it first seems. \n\n\nThis lab is divided into six sections\n* Introduction to Jupyter Notebooks\n* Learning to Fail Successfully\n* The Grammar of Code\n* Dissecting a Line of Code\n* Types of Data\n* Significant Figures\n\n#### <font color=darkorange>Comments in orange will let you know when there is a question that needs to be answered.</font>. \n\nYou only need to complete the sections that are relevant to you, based on your answers to the \"Should I do the Optional Lab 1\", however as the rest of the course will assume that you know the things listed here, it probably doesn't hurt to give every section a quick read through to make sure you are comfortable with the material. \n\n\n\n## Part 1 - Introduction to Jupyter Notebooks\nWhat is a Jupyter Notebook? You are reading one!\n\nA jupyter notebook is an open-source app that allows people to create and share documents that contain live code along with the graphs and text that go along with it. By combining this with Azure Notebooks, which provides an online computational environment to run the code, you can experiment with and learn about programming, without worrying about whether your computer has the right language installed, or the same packages installed, or other such concerns. \n\nIn the next few labs, we will be using a language called R (invented right here at University of Auckland!), but you can use Jupyter notebooks with many different programming languages. The basics are the same. To get you familiar with the Jupyter Notebook system, complete the following steps. Don't worry too much about the code. You're not going to need to understand every line, it's merely the tools we need to use so that we can access the data appropriately. \n\n### Step 1\nJupyter notebooks contain blocks of code that you can execute (run), and this appears in grey boxes.\n\nGive it a go.\n\nClick on the code box below, then press Run in the toolbar above (or press Shift+Enter) to run the code."
    },
    {
      "metadata": {
        "trusted": true
      },
      "cell_type": "code",
      "source": "print(\"Congratulations - you have successfully run some code!\")",
      "execution_count": null,
      "outputs": []
    },
    {
      "metadata": {},
      "cell_type": "markdown",
      "source": "***\nIf all went well, the code should have printed a message for you directly underneath the grey box but above the grey line. If your code has any errors or warnings, these will appear in the same place.\n\n### Step 2\n\nLet's print a message you choose this time. \n\nIn the block of code below, write a message between the quotation marks. It is OK to use spaces, numbers, and letters. Don't use quotations marks - your message should appear red in colour. If it's not, you've done something wrong, so have another crack!"
    },
    {
      "metadata": {
        "trusted": true
      },
      "cell_type": "code",
      "source": "###\n# WRITE A MESSAGE BETWEEN THE SPEECH MARKS IN THE LINE BELOW, THEN HIT RUN.\n###\nprint(\"type something here!\")\n###\n\n# It's ok to use spaces, numbers, or letters. Your message should look red.\n# For example: print(\"this is my message\")",
      "execution_count": null,
      "outputs": []
    },
    {
      "metadata": {},
      "cell_type": "markdown",
      "source": "***\nYou will notice the hash symbols `#` in the code block above. Anything after a `#` is ignored by the computer (within Jupyter Notebook the text appears blue in colour) - this is called commenting a line. Using `#` at the start of a line allows you to comment the code so that it is human readable and easier to follow. It's also a very useful tool for troubleshooting, so remember it for later in this lab and any following labs!\n\n\n### Step 3\n\nSo this is all kind of cool. You can run code in the same notebook that the instructions came in, and that's nice. But probably the best thing about Jupyter notebooks is that they allow you to also graph data and keep it in the same document as your code and instructions. Keeping everything together is important when you run analyses, so that you know exactly what code produced what plot. \n\nLet's make a graph from some data. Click on the code below, then hit the `Run` button to create a scatter plot using the `ggplot2` library. You do not need to edit any of the code.\n\n\n\n\n\n\n\n"
    },
    {
      "metadata": {
        "trusted": true
      },
      "cell_type": "code",
      "source": "# Load the required library for plotting functions\nlibrary(\"ggplot2\")\n\n# Create data to plot\n# N.B. Input to ggplot2 needs to be a data frame, i.e. x and y must be stored in the same variable\ntest_data <- data.frame(x.values = c(1, 2, 3), \n                        y.values = c(5, 4, 6))\n\n# The following code makes a scatter plot, using our continuous x and y values specified above\nggplot(data = test_data, aes(x = x.values, y = y.values)) +\n# Specify type of plot as scatter plot\ngeom_point() +\n# x-axis label\nxlab(\"x value\") +\n# y-axis label\nylab(\"y value\") +\n# Title of plot\nggtitle(\"My test plot using the ggplot2 library\") +\n# Align title to centre\ntheme(plot.title = element_text(hjust = 0.5))",
      "execution_count": null,
      "outputs": []
    },
    {
      "metadata": {},
      "cell_type": "markdown",
      "source": "***\nIf you'd like, have a play with the code. \n\nChange the x.values and y.values stored within the variable test_data and see how the graph changes. Make sure they have the same count of numbers in them (i.e. currently x.values and y.values have three numbers each).\n<br><br><br>\n\n\n## Part 2 - Learning to Fail Successfully\n\nThe purpose of this exercise is to help you to realize that you can troubleshoot complex computer code even if you have **never seen the language before**. It just requires some patience, and some common strategies that you can use to figure stuff out. These strategies work no matter what the computer language, so although we will be using R in these examples, you can apply these same strategies for all coding problems. Even if you think you know nothing about computers, you actually have a wealth of everyday knowledge that you can use to help you solve these kinds of problems. \n\n### Example 1\n\nIn the following cell, we have some very simple (but very boring) code that produces some output. Run the code to see what the output is. "
    },
    {
      "metadata": {
        "trusted": true
      },
      "cell_type": "code",
      "source": "a<-2\nb<-5\na+b\na*b",
      "execution_count": null,
      "outputs": []
    },
    {
      "metadata": {},
      "cell_type": "markdown",
      "source": "***\n\nOne very common error you will see when programming is when the output is not what you are wanting/expecting. Without knowing anything else about the language, it is possible to tweak the code. Let's pretend that the output that we actually wanted from our code was 7 and 12, not 7 and 10. \n\nHave a go at changing the code. To do this, click on the cell, make whatever changes you want, and then press `Run` in the task bar above. You can change as many things as you like, and press run as often as you like. As long as the output reads 7 and 12, there are no wrong answers. There may be pretty solutions, and ugly solutions, but there are no wrong solutions. \n\nFor this example, and all the remaining examples in this exercise, pay attention not just to solving the problem, but HOW you solved the problem. What steps did you take? What logic did you apply? How did you know what each of the lines of coded did? How did you know which lines to change? \n\n#### <font color=orange>Log onto Piazza and answer the question about this example. Feel free to discuss with your neighbours first.</font>\n<br><br><br>\n\n### Example 2 \nFor the following cell, you will note that the output is actually an error message. Change the code so that there is no error message, and the output is 12 when you put x on a line by itself. "
    },
    {
      "metadata": {
        "trusted": true
      },
      "cell_type": "code",
      "source": "'x'+3",
      "execution_count": null,
      "outputs": []
    },
    {
      "metadata": {},
      "cell_type": "markdown",
      "source": "***\n#### <font color=orange>Log onto Piazza and answer the question about this example. Feel free to discuss with your neighbours first.</font>\n<br><br><br>\n\n### Example 3\nThe following cell contains two lines: "
    },
    {
      "metadata": {
        "trusted": true
      },
      "cell_type": "code",
      "source": "# ggplot2 examples\nlibrary(ggplot) ",
      "execution_count": null,
      "outputs": []
    },
    {
      "metadata": {},
      "cell_type": "markdown",
      "source": "***\nIn order to use code that others have written for you in R (called code libraries or libraries for short), you need to load this code so R knows what to do. Try and fix the above code so that the library loads successfully. **HINT: The code will be fixed when there is no output on running the command**. \n\n#### <font color=orange>Log onto Piazza and answer the question about this example. Feel free to discuss with your neighbours first.</font>\n<br><br><br>\n\n## Part 3 - The Grammar of Code\nIf you haven't watched the video of the same name, you probably want to do that before attempting this seciton. \n\nThe above examples are pretty simple in terms of coding. While we will never expect you to create complex programs from scratch in this subject, you are going to find it a lot easier to do the actual work (analysis, critical thinking) in the subject if you can understand a bit more about the code we ask you to use. \n\nTo start this journey, you're going to need some building blocks. Like DNA and proteins, great things can come from using a small component to make something greater than the sum of its parts. The basic building blocks for programming languages are all the same concept although the implementation is a little different for each language: Variables, Loops, Conditionals, Operators, and Functions. \n\n### Variables/Objects\nWe've already played extensively with variables in our examples above. Variables are containers for data, and have a name, a type, and a value. Note that the word variable here is being used in its computational form. It has a distinct but related statistical meaning, and as R is a statistical language, it instead refers to variables as objects. \n\n#### <font color=orange>Questions 1 and 2 of the Lab 1 Worksheet refers to the above section.</font>\n<br><br><br>\n\nThe following code assigns numbers to varaibles, and then prints out the results of some calculations. "
    },
    {
      "metadata": {
        "trusted": true
      },
      "cell_type": "code",
      "source": "x <- c(1, 2, 3)\ny <- 12\nx\ny\nx*y",
      "execution_count": null,
      "outputs": []
    },
    {
      "metadata": {},
      "cell_type": "markdown",
      "source": "***\n\nYou can access a list of all the variable you have in your environment by using the `ls()` function. `ls()` function (short for list, because apparently two characters makes a huge difference to lazy programmers). You can use the class function `class()` to determine the type of data held by the variable. eg. `class(a)`. Use these functions in the space below to explore the variables in your environment. "
    },
    {
      "metadata": {
        "trusted": true
      },
      "cell_type": "code",
      "source": "",
      "execution_count": null,
      "outputs": []
    },
    {
      "metadata": {},
      "cell_type": "markdown",
      "source": "***\n\n#### <font color=orange>Question 3 of the Lab 1 Worksheet refers to the above section.</font>\n<br><br><br>\n\nYou assign values to variables using an assignment operator `<-`. You can also use the equals sign `=` but for fancy computational reasons it is more correct to used the assignment operator. I like to think of it as a little arrow that points to where data should be stored. Incedentally, it also works in the other direction `->` but no one ever uses that either. \n\nUse the assignment operator give the variable `z` the value of `19`. Test that the code is working below, and <font color=orange>**paste your answer into Question 4 of the Lab 1 Worksheet.**</font>"
    },
    {
      "metadata": {
        "trusted": true
      },
      "cell_type": "code",
      "source": "",
      "execution_count": null,
      "outputs": []
    },
    {
      "metadata": {},
      "cell_type": "markdown",
      "source": "***\n\n### Loops and Conditionals\nLoops are program structures that run code over and over again. Conditionals are program stuctures that run code only if a specified condition is met. A lot of the time these loops are actually hidden in R, they are just done automatically. R assumes that if you perform an operation on something that has multiple items, that you want it done to all items. \n\nLet's consider some code we used above. "
    },
    {
      "metadata": {
        "trusted": true
      },
      "cell_type": "code",
      "source": "x <- c(1, 2, 3)\ny <- 12\nx\ny\nx*y",
      "execution_count": null,
      "outputs": []
    },
    {
      "metadata": {},
      "cell_type": "markdown",
      "source": "***\n#### <font color=orange>Question 5 of the Lab 1 Worksheet refers to the above section.</font>\n<br><br><br>\n\nConditionals we probably won't see very much in this subject, but it's important to recognize them and understand how they work. Consider the code below. Play around with the variable x, and run the code to see how the output changes depending on what you change the variable too. "
    },
    {
      "metadata": {
        "trusted": true
      },
      "cell_type": "code",
      "source": "x <- -5\nif (x < 0) {print(\"Negative number\")} else if (x > 0) {print(\"Positive number\")} else print(\"Zero\")",
      "execution_count": null,
      "outputs": []
    },
    {
      "metadata": {},
      "cell_type": "markdown",
      "source": "***\n#### <font color=orange>Question 6 of the Lab 1 Worksheet refers to the above section.</font>\n<br><br><br>\n\n### Operators\n\nWe've met some operators already in the process of demonstrating other things. We've seen the assignment operators `<- = ->`, we've seen some multiplication `*`, and some logical operators as well `<` and `>`. Use the following cells to write some code to:\n\n1. Add 13 to 15 and assign it to the variable a\n2. Subtract 20 from 10 and assign it to the variable b\n3. Divide 45 by 9 and assign it to the variable c\n"
    },
    {
      "metadata": {
        "trusted": true
      },
      "cell_type": "code",
      "source": "",
      "execution_count": null,
      "outputs": []
    },
    {
      "metadata": {
        "trusted": true
      },
      "cell_type": "code",
      "source": "",
      "execution_count": null,
      "outputs": []
    },
    {
      "metadata": {
        "trusted": true
      },
      "cell_type": "code",
      "source": "",
      "execution_count": null,
      "outputs": []
    },
    {
      "metadata": {},
      "cell_type": "markdown",
      "source": "***\n#### <font color=orange>Paste the working code into Question 7 of the Lab 1 Worksheet. Question 8 also refers to the above section.</font>\n<br><br><br>\n### Functions\nFunctions are little bits of code that have already been programmed by someone else so that we don't have to. Like operators, we have already met a few functions in this lab. You can recognize functions in R by their proximity to parentheses. One such extremely useful function is the help function `help()`. There are also a lot of very useful statistical functions with which we will become familiar: \n\n* `c(1, 2, 3)` Concatenate the numbers 1, 2, and 3 into a vector \n* `mean(x)`\tMean of the numbers in vector x.\n* `median(x)`\tMedian of the numbers in vector x\n* `var(x)`\tEstimated variance of the population from which the numbers in vector x are sampled\n* `sd(x)`\tEstimated standard deviation of the population from which the numbers in vector x are sampled\n\nBecause we don't have to worry about programming these in ourselves, we can make much better use of our time by analyzing our data instead. \n\nUse your knowledge of variables, operators, and functions so far to create a list of 10 numbers, and calculate the mean and standard deviation of those numbers. "
    },
    {
      "metadata": {
        "trusted": true
      },
      "cell_type": "code",
      "source": "",
      "execution_count": null,
      "outputs": []
    },
    {
      "metadata": {},
      "cell_type": "markdown",
      "source": "#### <font color=orange>Paste the working code into Question 9 of the Lab 1 Worksheet.</font>\n<br><br><br>\n\n## Part 4 - How to dissect unknown code\nIf you have made it this far, you have managed to gain quite a lot of useful coding knowledge in a short space of time. You know have all the basic knowledge and tools to dissect a line of code and figure out what it is doing. As a junior scientist, you will be doing this far more often than you will be writing your own functions, so this is a very useful skill to have. The more you practice this skill, the better it will be, and the quicker you will be able to get down to doing the fun stuff - analyzing data!\n\nSo let's practice! Below, I have given you some code. The code does not run correctly. You need to figure out what the code does, and fix the error to make it run. \n\nHere are some tips: \n\n* Try running it. Even if you get error messages, sometimes this gives you helpful clues. Sometimes it will give you an output which also helps!\n* Try to identify the components: variables/objects, functions, arguments, operators\n * Look for words or abbreviations you know (nouns) - these are likely to be your variables\n * Also look for the assignment operators `<-`, `=`, or `->`, as these generally point to variables\n * Type the individual variable names on their own. If they are really variables, they should contain data (but only after data has been successfully added to them). \n * Look for words you know (verbs) - these are likely to be your functions. \n * Also look for brackets, and inside your brackets are likely to be your arguments. \n* Use the `help()` function or google to figure out what functions do and how to get them to work properly\n* Look for operator symbols to give you context\n* Try changing the code to experiment and learn. \n"
    },
    {
      "metadata": {
        "trusted": true
      },
      "cell_type": "code",
      "source": "mean=100; sd=15\nx <- seq(-4,4,length=100)*sd + mean\ny <- dnorm(x,mean,sd)\nplot(x, x, type=\"l\", xlab=\"IQ Values\", ylab=\"Frequency\", main=\"Expected Distribution\", axes=TRUE)",
      "execution_count": null,
      "outputs": []
    },
    {
      "metadata": {},
      "cell_type": "markdown",
      "source": "#### <font color=orange>Question 10 of Lab 1 Worksheet relates to the above section.</font>\n<br><br><br>\n\n## Part 5 - Types of Data\nIf you haven't watched the video of the same name then now would be an ideal time to do so. \n\nUse the data on mammalian sleep patterns that is provided as a part of the ggplot2 library as an example data set to examine.  "
    },
    {
      "metadata": {
        "trusted": true
      },
      "cell_type": "code",
      "source": "library(ggplot2)\nmsleep",
      "execution_count": null,
      "outputs": []
    },
    {
      "metadata": {},
      "cell_type": "markdown",
      "source": "#### <font color=orange>Questions 11 and 12 of Lab 1 Worksheet relates to the above data.</font>\n<br><br><br>\n\n## Significant Figures\nAll remaining questions on the Lab 1 Worksheet relate to significant figures, and can be performed without using this notebook. However as R makes a convenient place to do some calculations, please feel free to use the next cell as a calculator. This is not mandatory. "
    },
    {
      "metadata": {
        "trusted": true
      },
      "cell_type": "code",
      "source": "",
      "execution_count": null,
      "outputs": []
    }
  ],
  "metadata": {
    "kernelspec": {
      "name": "r",
      "display_name": "R",
      "language": "R"
    },
    "language_info": {
      "mimetype": "text/x-r-source",
      "name": "R",
      "pygments_lexer": "r",
      "version": "3.5.3",
      "file_extension": ".r",
      "codemirror_mode": "r"
    }
  },
  "nbformat": 4,
  "nbformat_minor": 2
}